{
 "cells": [
  {
   "cell_type": "markdown",
   "metadata": {},
   "source": [
    "### 거스름돈"
   ]
  },
  {
   "cell_type": "markdown",
   "metadata": {},
   "source": [
    "그리디 알고리즘을 이용해 풀 수 있는 대표적인 문제, '가장 큰 화폐 단위부터' 돈을 거슬러 주는 간단한 아이디어를 통해 문제를 해결할 수 있다."
   ]
  },
  {
   "cell_type": "code",
   "execution_count": 5,
   "metadata": {},
   "outputs": [
    {
     "name": "stdout",
     "output_type": "stream",
     "text": [
      "6\n"
     ]
    }
   ],
   "source": [
    "n = 1260\n",
    "count = 0\n",
    "\n",
    "#가장 큰 단위 화폐부터 차례대로 확인\n",
    "coin_type = [500,100,50,10]\n",
    "\n",
    "for type in coin_type: \n",
    "    count += n // type #n을 type으로 나눴을 때 정수 값\n",
    "    n %= type #n을 type으로 나눴을 때 나머지\n",
    "    \n",
    "\n",
    "print(count)"
   ]
  },
  {
   "cell_type": "markdown",
   "metadata": {},
   "source": [
    "* 파이썬 /와 //의 차이점\n",
    "  * /: 나눗셈 연산자로 항상 float 타입의 결과를 반환한다. 정확한 나눗셈 결과 제공\n",
    "  * //: 정수 나눗셈 연산자로 결과값을 정수로 내림하여 반환한다. 정수 나눗셈의 몫만을 구한다."
   ]
  },
  {
   "cell_type": "markdown",
   "metadata": {},
   "source": [
    "그리디 알고리즘으로 문제의 해법을 찾았을 때는 그 해법이 정당한지 검토해야 한다. 거스름돈 문제를 그리디 알고리즘으로 해결할 수 있는 이유는 가지고 있는 동전의 가장 큰 단위가 항상 작은 단위의 배수이므로 작은 단위의 동전들을 종합해 다른 해가 나올 수 없기 때문이다. \n",
    "\n",
    "\n",
    "큰 단위가 작은 단위의 배수가 아닌 경우 -> 화폐 단위가 500, 400, 100인 경우"
   ]
  },
  {
   "cell_type": "markdown",
   "metadata": {},
   "source": [
    "### 큰 수의 법칙"
   ]
  },
  {
   "cell_type": "markdown",
   "metadata": {},
   "source": [
    "주어진 수들을 M번 더하여 가장 큰 수를 만드는 법칙\n",
    "\n",
    "배열의 크기 N, 숫자가 더해지는 횟수 M, K가 주어질 때 동빈이의 큰 수의 법칙에 따른 결과를 출력하시오."
   ]
  },
  {
   "cell_type": "code",
   "execution_count": 23,
   "metadata": {},
   "outputs": [
    {
     "name": "stdout",
     "output_type": "stream",
     "text": [
      "5 8 3 [6, 5, 4, 4, 2]\n",
      "46\n"
     ]
    }
   ],
   "source": [
    "#1. 기존 주어진 수열을 내림차순으로 정렬\n",
    "#2. 가장 큰 수부터 K번 더하기\n",
    "#3. K번 다 더해지면, 다음 수로 가서 K번 -> M이 다 소진될 때까지 반복한다.\n",
    "\n",
    "N, M, K = map(int,input().split())\n",
    "\n",
    "numbers = list(map(int, input().split()))\n",
    "\n",
    "numbers.sort(reverse=True)\n",
    "print(N, M, K, numbers)\n",
    "\n",
    "idx = 0\n",
    "total = 0\n",
    "cnt = 0\n",
    "for i in range(M):\n",
    "    \n",
    "    if cnt < K :\n",
    "        cnt += 1\n",
    "        total += numbers[idx]\n",
    "    else :\n",
    "        idx += 1\n",
    "        cnt = 0\n",
    "        total += numbers[idx]\n",
    "        idx = 0\n",
    "\n",
    "print(total)\n"
   ]
  },
  {
   "cell_type": "markdown",
   "metadata": {},
   "source": [
    "반복되는 수열에 대한 파악 -> 가장 큰수와 두 번째로 큰 수는 특정한 수열 형태로 일정하게 반복해서 더해지는 특징이 있다. \n",
    "M이 K+1로 나눈 몫이 반복되는 힛수가 된다. K를 곱하면 큰수 등장 횟수이다.\n"
   ]
  },
  {
   "cell_type": "code",
   "execution_count": 26,
   "metadata": {},
   "outputs": [
    {
     "name": "stdout",
     "output_type": "stream",
     "text": [
      "46\n"
     ]
    }
   ],
   "source": [
    "n, m, k = map(int, input().split())\n",
    "numbers = list(map(int, input().split()))\n",
    "\n",
    "numbers.sort(reverse=True)\n",
    "\n",
    "count = int(m/(k+1)) * k + m % (k+1)\n",
    "\n",
    "result = numbers[0] * count + numbers[1] * (m-count)\n",
    "\n",
    "print(result)"
   ]
  },
  {
   "cell_type": "markdown",
   "metadata": {},
   "source": [
    "### 숫자 카드 게임"
   ]
  },
  {
   "cell_type": "markdown",
   "metadata": {},
   "source": [
    "여러 개의 숫자 카드 중에서 가장 높은 숫자가 쓰인 카드 한 장을 뽑는다. \n",
    "1. N * M 형태로 놓여 있다.\n",
    "2. 뽑고자 하는 카드 포함된 행 선택\n",
    "3. 행에 포함된 카드 중 가장 숫자가 낮은 카드를 뽑는다.\n",
    "4. 카드를 고를 행을 선택할 시, 이후 해당 행에서 가장 숫자가 낮은 카드를 뽑을 것을 고려해 최종적으로 가장 높은 숫자의 카드를 뽑도록 전략을 세워야 한다."
   ]
  },
  {
   "cell_type": "code",
   "execution_count": 31,
   "metadata": {},
   "outputs": [
    {
     "name": "stdout",
     "output_type": "stream",
     "text": [
      "[[7, 3, 1, 8], [3, 3, 3, 4]]\n",
      "3\n"
     ]
    }
   ],
   "source": [
    "# 각 행별로 가장 낮은 숫자 계산\n",
    "# 도출된 숫자 중 가장 높은 숫자를 포함한 행 추출\n",
    "\n",
    "N, M = map(int,input().split())\n",
    "array = [list(map(int,input().split())) for _ in range(N)]\n",
    "#[list(map(int,input().split())) for _ in range(N)]\n",
    "\n",
    "print(array)\n",
    "\n",
    "numbers = [min(row) for row in array]\n",
    "\n",
    "print(max(numbers))"
   ]
  },
  {
   "cell_type": "markdown",
   "metadata": {},
   "source": [
    "min() 함수를 활용하거나 2중 반복문 구조를 이용할 수 있어야 한다."
   ]
  },
  {
   "cell_type": "markdown",
   "metadata": {},
   "source": [
    "### 1이 될 때까지"
   ]
  },
  {
   "cell_type": "markdown",
   "metadata": {},
   "source": [
    "어떠한 수 N이 1이 될 때까지 다음 두 과정 중 하나를 반복적으로 선택해 수행한다. 단, 두번째 연산은 N이 K로 나누어떨어질 때만 선택할 수 있다.\n",
    "\n",
    "1. N에서 1을 뺀다.\n",
    "2. N을 K로 나눈다.\n",
    "\n",
    "N과 K가 주어질 때, N이 1이 될 때까지 최소 횟수를 구하는 프로그램을 작성하시오."
   ]
  },
  {
   "cell_type": "code",
   "execution_count": 33,
   "metadata": {},
   "outputs": [
    {
     "name": "stdout",
     "output_type": "stream",
     "text": [
      "2\n"
     ]
    }
   ],
   "source": [
    "N, K = map(int,input().split())\n",
    "\n",
    "count = 0\n",
    "\n",
    "while N % K != 0:\n",
    "    N -= 1\n",
    "    count += 1\n",
    "\n",
    "while N != 1:\n",
    "    N = N // K\n",
    "    count += 1\n",
    "\n",
    "print(count)"
   ]
  },
  {
   "cell_type": "markdown",
   "metadata": {},
   "source": [
    "하지만 N이 100억 이상의 큰 수가 되는 경우를 가정하면, N이 K의 배수가 되도록 효율적으로 한 번에 빼는 방식으로 작성할수도 있다."
   ]
  },
  {
   "cell_type": "code",
   "execution_count": 38,
   "metadata": {},
   "outputs": [
    {
     "name": "stdout",
     "output_type": "stream",
     "text": [
      "25 1 5 5\n",
      "5 2 1 5\n",
      "2\n"
     ]
    }
   ],
   "source": [
    "n, k = map(int, input().split())\n",
    "result = 0\n",
    "\n",
    "while True:\n",
    "    target = (n//k) * K \n",
    "    result += (n - target)\n",
    "    n = target\n",
    "   \n",
    "\n",
    "    if n < k:\n",
    "        break\n",
    "\n",
    "    result += 1\n",
    "    n //= k\n",
    "\n",
    "    print(target, result, n, k)\n",
    "\n",
    "#마지막으로 남은 수에 대하여 1씩 빼기\n",
    "result += (n-1)\n",
    "print(result)"
   ]
  }
 ],
 "metadata": {
  "kernelspec": {
   "display_name": "base",
   "language": "python",
   "name": "python3"
  },
  "language_info": {
   "codemirror_mode": {
    "name": "ipython",
    "version": 3
   },
   "file_extension": ".py",
   "mimetype": "text/x-python",
   "name": "python",
   "nbconvert_exporter": "python",
   "pygments_lexer": "ipython3",
   "version": "3.9.12"
  }
 },
 "nbformat": 4,
 "nbformat_minor": 2
}
