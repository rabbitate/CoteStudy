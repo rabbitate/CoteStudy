{
 "cells": [
  {
   "cell_type": "markdown",
   "metadata": {},
   "source": [
    "탐색이란 많은 양의 데이터에서 원하는 데이터를 찾는 과정\n",
    "그래프, 트리 등의 자료구조에서 탐색을 하는 문제를 자주 다룬다.\n",
    "\n",
    "\n",
    "자료구조란 '데이터를 표현하고 관리하고 처리하기 위한 구조'를 의미한다.\n",
    "\n",
    "스택과 큐는 다음의 두 핵심적인 함수로 구성된다.\n",
    "* 삽입(Push): 데이터를 삽입한다.\n",
    "* 삭제(POP): 데이터를 삭제한다."
   ]
  },
  {
   "cell_type": "markdown",
   "metadata": {},
   "source": [
    "스택"
   ]
  },
  {
   "cell_type": "code",
   "execution_count": 1,
   "metadata": {},
   "outputs": [
    {
     "name": "stdout",
     "output_type": "stream",
     "text": [
      "[5, 2, 2]\n",
      "[2, 2, 5]\n"
     ]
    }
   ],
   "source": [
    "stack = []\n",
    "\n",
    "stack.append(5)\n",
    "stack.append(2)\n",
    "stack.append(2)\n",
    "stack.append(3)\n",
    "\n",
    "stack.pop()\n",
    "\n",
    "print(stack)\n",
    "print(stack[::-1])"
   ]
  },
  {
   "cell_type": "markdown",
   "metadata": {},
   "source": [
    "큐"
   ]
  },
  {
   "cell_type": "code",
   "execution_count": 3,
   "metadata": {},
   "outputs": [
    {
     "name": "stdout",
     "output_type": "stream",
     "text": [
      "deque([3, 7, 1, 4])\n",
      "deque([4, 1, 7, 3])\n"
     ]
    }
   ],
   "source": [
    "from collections import deque\n",
    "\n",
    "queue = deque()\n",
    "\n",
    "queue.append(5)\n",
    "queue.append(2)\n",
    "queue.append(3)\n",
    "queue.append(7)\n",
    "queue.popleft()\n",
    "queue.append(1)\n",
    "queue.append(4)\n",
    "queue.popleft()\n",
    "\n",
    "print(queue)\n",
    "queue.reverse() \n",
    "print(queue)"
   ]
  },
  {
   "cell_type": "markdown",
   "metadata": {},
   "source": [
    "재귀함수"
   ]
  },
  {
   "cell_type": "code",
   "execution_count": 4,
   "metadata": {},
   "outputs": [],
   "source": [
    "# def recursive_function():\n",
    "#     print('재귀함수를 호출합니다.')\n",
    "#     recursive_function()\n",
    "\n",
    "# recursive_function()"
   ]
  },
  {
   "cell_type": "code",
   "execution_count": 6,
   "metadata": {},
   "outputs": [
    {
     "name": "stdout",
     "output_type": "stream",
     "text": [
      "1 i번째 재귀 함수에서 2 번째 재귀 함수를 호출합니다.\n",
      "2 i번째 재귀 함수에서 3 번째 재귀 함수를 호출합니다.\n",
      "3 i번째 재귀 함수에서 4 번째 재귀 함수를 호출합니다.\n",
      "4 i번째 재귀 함수에서 5 번째 재귀 함수를 호출합니다.\n",
      "5 i번째 재귀 함수에서 6 번째 재귀 함수를 호출합니다.\n",
      "6 i번째 재귀 함수에서 7 번째 재귀 함수를 호출합니다.\n",
      "7 i번째 재귀 함수에서 8 번째 재귀 함수를 호출합니다.\n",
      "8 i번째 재귀 함수에서 9 번째 재귀 함수를 호출합니다.\n",
      "9 i번째 재귀 함수에서 10 번째 재귀 함수를 호출합니다.\n",
      "9 번째 재귀 함수를 종료합니다.\n",
      "8 번째 재귀 함수를 종료합니다.\n",
      "7 번째 재귀 함수를 종료합니다.\n",
      "6 번째 재귀 함수를 종료합니다.\n",
      "5 번째 재귀 함수를 종료합니다.\n",
      "4 번째 재귀 함수를 종료합니다.\n",
      "3 번째 재귀 함수를 종료합니다.\n",
      "2 번째 재귀 함수를 종료합니다.\n",
      "1 번째 재귀 함수를 종료합니다.\n"
     ]
    }
   ],
   "source": [
    "def recursive_function(i):\n",
    "    #100번쨰 출력했을 때 종료되도록 종료 조건을 명시한다.\n",
    "    if i == 10:\n",
    "        return\n",
    "    \n",
    "    print(i, 'i번째 재귀 함수에서', i+1, '번째 재귀 함수를 호출합니다.')\n",
    "    recursive_function(i+1)\n",
    "    print(i, '번째 재귀 함수를 종료합니다.')\n",
    "\n",
    "recursive_function(1)"
   ]
  },
  {
   "cell_type": "markdown",
   "metadata": {},
   "source": [
    "컴퓨터 내부에서 재귀 함수는 스택 자료구조형을 사용한다.\n",
    "\n",
    "함수를 계속 호출했을 때, 가장 마지막에 호출한 함수가 먼저 수행을 끝내야 그 앞의 함수 호출이 종료되기 때문이다.\n",
    "\n",
    "스택 자료구조를 활용해야 하는 상당수의 알고리즘은 재귀 함수를 이용해서 간편하게 구현될 수 있다."
   ]
  },
  {
   "cell_type": "code",
   "execution_count": 7,
   "metadata": {},
   "outputs": [
    {
     "name": "stdout",
     "output_type": "stream",
     "text": [
      "반복적으로 구현: 120\n",
      "재귀적으로 구현: 120\n"
     ]
    }
   ],
   "source": [
    "def factorial_iterative(n):\n",
    "    result = 1\n",
    "    #1부터 n까지의 수를 차례대로 곱하기\n",
    "    for i in range(1,n+1):\n",
    "        result *= i\n",
    "    return result\n",
    "\n",
    "\n",
    "#재귀적으로 구현한 N!\n",
    "def factorial_recursive(n):\n",
    "    if n <= 1:\n",
    "        return 1\n",
    "    return n* factorial_recursive(n-1)\n",
    "    \n",
    "\n",
    "print('반복적으로 구현:', factorial_iterative(5))\n",
    "print('재귀적으로 구현:', factorial_recursive(5))\n"
   ]
  },
  {
   "cell_type": "markdown",
   "metadata": {},
   "source": [
    "DFS\n",
    "\n",
    "* 깊이 우선 탐색, 그래프에서 깊은 부분을 우선적으로 탐색하는 알고리즘\n",
    "\n",
    "그래프\n",
    "\n",
    "* 노드와 간선으로 표현되며, 이때 노드를 정점이라고도 말한다.\n",
    "* 그래프 탐색이란 하나의 노드를 시작으로 다수의 노드를 방문하는 것이다.\n",
    "\n",
    "프로그래밍 그래프 2가지\n",
    "\n",
    "인접행렬\n",
    "* 2차원 배열로 그래프의 연결 관계를 표현하는 방식이다.\n",
    "  \n",
    "인접리스트\n",
    "* 리스트로 그래프의 연결관계를 표현하는 방식이다.\n",
    "\n"
   ]
  },
  {
   "cell_type": "markdown",
   "metadata": {},
   "source": [
    "인접행렬"
   ]
  },
  {
   "cell_type": "code",
   "execution_count": 8,
   "metadata": {},
   "outputs": [
    {
     "name": "stdout",
     "output_type": "stream",
     "text": [
      "[[0, 7, 5], [7, 0, 999999999], [5, 999999999, 0]]\n"
     ]
    }
   ],
   "source": [
    "INF = 999999999 \n",
    "\n",
    "graph = [\n",
    "    [0,7,5],\n",
    "    [7,0,INF],\n",
    "    [5,INF,0]\n",
    "]\n",
    "\n",
    "print(graph)"
   ]
  },
  {
   "cell_type": "markdown",
   "metadata": {},
   "source": [
    "인접리스트"
   ]
  },
  {
   "cell_type": "code",
   "execution_count": 9,
   "metadata": {},
   "outputs": [
    {
     "name": "stdout",
     "output_type": "stream",
     "text": [
      "[[(1, 7), (2, 5)], [(0, 7)], [(0, 5)]]\n"
     ]
    }
   ],
   "source": [
    "graph = [[] for _ in range(3)]\n",
    "\n",
    "graph[0].append((1, 7))\n",
    "graph[0].append((2, 5))\n",
    "\n",
    "graph[1].append((0,7))\n",
    "\n",
    "graph[2].append((0,5))\n",
    "\n",
    "print(graph)"
   ]
  },
  {
   "cell_type": "markdown",
   "metadata": {},
   "source": [
    "특정 노드와 연결된 모든 인접 노드를 순회해야 하는 경우, 인접 리스트 방식이 인접 행렬 방식에 비해 메모리 공간 낭비가 적다."
   ]
  },
  {
   "cell_type": "markdown",
   "metadata": {},
   "source": [
    "DFS\n",
    "\n",
    "1. 탐색 시작 노드를 스택에 삽입하고 방문 처리를 한다.\n",
    "2. 스택의 최상단 노드에 방문하지 않은 인접 노드가 있으면, 그 인접 노드를 스택에 넣고 방문 처리를 한다. 방문하지 않은 인접 노드가 없으면 스택에서 최상단 노드를 꺼낸다.\n",
    "3. 2번의 과정을 더 이상 수행할 수 없을 때까지 반복한다."
   ]
  },
  {
   "cell_type": "code",
   "execution_count": 10,
   "metadata": {},
   "outputs": [
    {
     "name": "stdout",
     "output_type": "stream",
     "text": [
      "1 2 7 6 8 3 4 5 "
     ]
    }
   ],
   "source": [
    "def dfs(graph, v, visited):\n",
    "    visited[v] = True\n",
    "    print(v,end=' ')\n",
    "    for i in graph[v]:\n",
    "        if not visited[i]:\n",
    "            dfs(graph, i, visited)\n",
    "\n",
    "graph = [\n",
    "    [],\n",
    "    [2,3,8],\n",
    "    [1,7],\n",
    "    [1,4,5],\n",
    "    [3,5],\n",
    "    [3,4],\n",
    "    [7],\n",
    "    [2,6,8],\n",
    "    [1,7]\n",
    "]\n",
    "\n",
    "visited = [False] * 9\n",
    "\n",
    "dfs(graph,1,visited)"
   ]
  },
  {
   "cell_type": "markdown",
   "metadata": {},
   "source": [
    "BFS\n",
    "\n",
    "1. 탐색 시작 노드를 큐에 삽입하고 방문 처리를 한다.\n",
    "2. 큐에서 노드를 꺼내 해당 노드의 인접 노드 중에서 방문하지 않은 노드를 모두 큐에 삽입하고 방문 처리를 한다.\n",
    "3. 2번의 과정을 더이상 수행할 수 없을 때까지 반복한다."
   ]
  },
  {
   "cell_type": "code",
   "execution_count": 11,
   "metadata": {},
   "outputs": [
    {
     "name": "stdout",
     "output_type": "stream",
     "text": [
      "1 2 3 8 7 4 5 6 "
     ]
    }
   ],
   "source": [
    "from collections import deque\n",
    "\n",
    "def bfs(graph, start, visited):\n",
    "    queue = deque([start])\n",
    "    visited[start] = True\n",
    "    while queue:\n",
    "        #큐에서 하나의 원소 뽑아 출력\n",
    "        v = queue.popleft()\n",
    "        print(v, end= ' ')\n",
    "        #해당 원소와 연결된 방문하지 않은 원소들을 큐에 삽입\n",
    "        for i in graph[v]:\n",
    "            if not visited[i]:\n",
    "                queue.append(i)\n",
    "                visited[i] = True\n",
    "\n",
    "graph = [\n",
    "    [],\n",
    "    [2,3,8],\n",
    "    [1,7],\n",
    "    [1,4,5],\n",
    "    [3,5],\n",
    "    [3,4],\n",
    "    [7],\n",
    "    [2,6,8],\n",
    "    [1,7]\n",
    "]\n",
    "\n",
    "visited = [False]*9\n",
    "\n",
    "bfs(graph,1,visited)"
   ]
  },
  {
   "cell_type": "markdown",
   "metadata": {},
   "source": [
    "### 음료수 얼려 먹기"
   ]
  },
  {
   "cell_type": "markdown",
   "metadata": {},
   "source": [
    "1. 특정한 지점의 주변 상, 하, 좌, 우를 살펴본 뒤 주변 지점 중에서 값이 '0'이면서 아직 방문하지 않은 지점이 있다면 해당 지점을 방문한다.\n",
    "2. 방문한 지점에서 다시 상, 하, 좌, 우를 살펴보면서 방문을 다시 진행하면, 연결된 모든 지점을 방문할 수 있다.\n",
    "3. 1~2번의 과정을 모든 노드에 반복하며 방문하지 않은 지점의 수를 센다.\n",
    "\n",
    "-> 개인적으로 방문처리를 어떻게 할지 좀더 생각하고 접근해야 될듯"
   ]
  },
  {
   "cell_type": "code",
   "execution_count": 12,
   "metadata": {},
   "outputs": [
    {
     "ename": "NameError",
     "evalue": "name 'n' is not defined",
     "output_type": "error",
     "traceback": [
      "\u001b[1;31m---------------------------------------------------------------------------\u001b[0m",
      "\u001b[1;31mNameError\u001b[0m                                 Traceback (most recent call last)",
      "Cell \u001b[1;32mIn[12], line 4\u001b[0m\n\u001b[0;32m      1\u001b[0m N, M \u001b[38;5;241m=\u001b[39m \u001b[38;5;28mmap\u001b[39m(\u001b[38;5;28mint\u001b[39m,\u001b[38;5;28minput\u001b[39m()\u001b[38;5;241m.\u001b[39msplit())\n\u001b[0;32m      3\u001b[0m graph \u001b[38;5;241m=\u001b[39m []\n\u001b[1;32m----> 4\u001b[0m \u001b[38;5;28;01mfor\u001b[39;00m i \u001b[38;5;129;01min\u001b[39;00m \u001b[38;5;28mrange\u001b[39m(\u001b[43mn\u001b[49m):\n\u001b[0;32m      5\u001b[0m     graph\u001b[38;5;241m.\u001b[39mappend(\u001b[38;5;28mlist\u001b[39m(\u001b[38;5;28mmap\u001b[39m(\u001b[38;5;28mint\u001b[39m,\u001b[38;5;28minput\u001b[39m())))\n\u001b[0;32m      7\u001b[0m \u001b[38;5;28;01mdef\u001b[39;00m \u001b[38;5;21mdfs\u001b[39m(x,y):\n\u001b[0;32m      8\u001b[0m     \u001b[38;5;66;03m#주어진 범위를 벗어나는 경우 즉시 종료\u001b[39;00m\n",
      "\u001b[1;31mNameError\u001b[0m: name 'n' is not defined"
     ]
    }
   ],
   "source": [
    "N, M = map(int,input().split())\n",
    "\n",
    "graph = []\n",
    "for i in range(N):\n",
    "    graph.append(list(map(int,input())))\n",
    "\n",
    "def dfs(x,y):\n",
    "    #주어진 범위를 벗어나는 경우 즉시 종료\n",
    "    if (x < 0 or x >= M or y < 0 or y >= N):\n",
    "        return False \n",
    "    \n",
    "    if graph[x][y] == 0:\n",
    "        #해당 노드 방문 처리\n",
    "        graph[x][y] = 1\n",
    "        #상, 하, 좌, 우의 위치도 모두 재귀적으로 호출한다.\n",
    "        dfs(x-1,y)\n",
    "        dfs(x,y-1)\n",
    "        dfs(x+1,y)\n",
    "        dfs(x,y+1)\n",
    "        return True\n",
    "    \n",
    "    return False\n",
    "\n",
    "\n",
    "result = 0\n",
    "for i in range(N):\n",
    "    for j in range(M):\n",
    "        #현재 위치에서 DFS 수행\n",
    "        if dfs(i,j) == True:\n",
    "            result += 1\n",
    "\n",
    "print(result) #정답 출력\n",
    "    "
   ]
  },
  {
   "cell_type": "markdown",
   "metadata": {},
   "source": [
    "### 미로 탈출"
   ]
  },
  {
   "cell_type": "code",
   "execution_count": 15,
   "metadata": {},
   "outputs": [
    {
     "name": "stdout",
     "output_type": "stream",
     "text": [
      "0\n"
     ]
    }
   ],
   "source": [
    "from collections import deque\n",
    "\n",
    "N, M = map(int, input().split())\n",
    "\n",
    "graph = [list(map(int,input().split())) for _ in range(N)]\n",
    "\n",
    "\n",
    "dx = [-1,1,0,0]\n",
    "dy = [0,0,-1,1]\n",
    "\n",
    "def bfs(x,y):\n",
    "    queue = deque()\n",
    "    queue.append((x,y))\n",
    "    #큐가 빌 때까지 반복\n",
    "    while queue:\n",
    "        x,y = queue.popleft()\n",
    "        # 현재 위치에서 네 방향으로의 위치 확인\n",
    "        for i in range(4):\n",
    "            nx = x + dx[i]\n",
    "            ny = y + dy[i]\n",
    "            if nx < 0 or ny or nx >= N or ny >= M: #공간 벗어나면 무시\n",
    "                continue\n",
    "            if graph[nx][ny] == 0: #벽이면 무시\n",
    "                continue\n",
    "            if graph[nx][ny] == 1: #해당 노드를 처음 방문하면, 최단 거리 기록\n",
    "                graph[nx][ny] = graph[x][y]+1\n",
    "                queue.append((nx,ny))\n",
    "\n",
    "    return graph[N-1][M-1]\n",
    "\n",
    "\n",
    "print(bfs(0,0))"
   ]
  }
 ],
 "metadata": {
  "kernelspec": {
   "display_name": "base",
   "language": "python",
   "name": "python3"
  },
  "language_info": {
   "codemirror_mode": {
    "name": "ipython",
    "version": 3
   },
   "file_extension": ".py",
   "mimetype": "text/x-python",
   "name": "python",
   "nbconvert_exporter": "python",
   "pygments_lexer": "ipython3",
   "version": "3.9.12"
  }
 },
 "nbformat": 4,
 "nbformat_minor": 2
}
