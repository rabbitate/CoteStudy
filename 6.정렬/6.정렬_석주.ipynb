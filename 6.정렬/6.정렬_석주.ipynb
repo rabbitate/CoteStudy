{
 "cells": [
  {
   "cell_type": "markdown",
   "metadata": {},
   "source": [
    "## 정렬\n",
    "\n",
    "정렬이란 데이터를 특정한 기준에 따라서 순서대로 나열하는 것을 말한다.\n",
    "\n",
    "\n",
    "정렬 알고리즘은 프로그램을 작성할 때 가장 많이 사용되는 알고리즘 중 하나이다.\n",
    "\n",
    "\n",
    "이진 탐색의 전처리 과정이기도 하다."
   ]
  },
  {
   "cell_type": "markdown",
   "metadata": {},
   "source": [
    "### 선택 정렬"
   ]
  },
  {
   "cell_type": "code",
   "execution_count": 1,
   "metadata": {},
   "outputs": [
    {
     "name": "stdout",
     "output_type": "stream",
     "text": [
      "[0, 1, 2, 3, 5, 6, 7, 8, 4, 9]\n"
     ]
    }
   ],
   "source": [
    "array = [7,5,9,0,3,1,6,2,4,8]\n",
    "\n",
    "for i in range(len(array)):\n",
    "    min_index = i #가장 작은 원소의 인덱스\n",
    "    for j in range(i+1, len(array)):\n",
    "        if array[min_index] > array[j]:\n",
    "            min_index = j\n",
    "\n",
    "        array[i], array[min_index] = array[min_index], array[i] #스왑\n",
    "\n",
    "print(array)"
   ]
  },
  {
   "cell_type": "markdown",
   "metadata": {},
   "source": [
    "선택 정렬의 시간 복잡도: O(N^2)"
   ]
  },
  {
   "cell_type": "markdown",
   "metadata": {},
   "source": [
    "### 삽입 정렬"
   ]
  },
  {
   "cell_type": "code",
   "execution_count": 2,
   "metadata": {},
   "outputs": [
    {
     "name": "stdout",
     "output_type": "stream",
     "text": [
      "[0, 1, 2, 3, 4, 5, 6, 7, 8, 9]\n"
     ]
    }
   ],
   "source": [
    "array = [7,5,9,0,3,1,6,2,4,8]\n",
    "\n",
    "\n",
    "for i in range(1, len(array)):\n",
    "    for j in range(i,0,-1):\n",
    "        if array[j] < array[j-1]:\n",
    "            array[j], array[j-1] = array[j-1], array[j]\n",
    "        else:\n",
    "            break\n",
    "\n",
    "\n",
    "print(array)"
   ]
  },
  {
   "cell_type": "markdown",
   "metadata": {},
   "source": [
    "### 퀵 정렬"
   ]
  },
  {
   "cell_type": "markdown",
   "metadata": {},
   "source": [
    "가장 많이 사용되는 알고리즘"
   ]
  },
  {
   "cell_type": "code",
   "execution_count": 3,
   "metadata": {},
   "outputs": [
    {
     "name": "stdout",
     "output_type": "stream",
     "text": [
      "[0, 1, 2, 3, 4, 5, 6, 7, 8, 9]\n"
     ]
    }
   ],
   "source": [
    "array = [5,7,9,0,3,1,6,2,4,8]\n",
    "\n",
    "def quick_sort(array, start, end):\n",
    "    if start >= end: #원소가 1개인 경우 종료한다.\n",
    "        return\n",
    "    pivot = start #피벗은 첫 번쨰 원소\n",
    "    left = start + 1\n",
    "    right = end\n",
    "    while left <= right:\n",
    "        #피벗보다 큰 데이터를 찾을 때까지 반복\n",
    "        while left <= end and array[left] <= array[pivot]:\n",
    "            left += 1\n",
    "        #v피벗보다 작은 데이터를 찾을 때까지 반복\n",
    "        while right > start and array[right] >= array[pivot]:\n",
    "            right -= 1\n",
    "        if left > right : #엇갈렸다면 작은 데이터와 피벗 교체\n",
    "            array[right], array[pivot] = array[pivot], array[right]\n",
    "        else:\n",
    "            array[left], array[right] = array[right], array[left]\n",
    "\n",
    "    #분할 이후 왼쪽 부분과 오른쪽 부분에서 각각 정렬 수행\n",
    "    quick_sort(array, start, right-1)\n",
    "    quick_sort(array, right+1,end)\n",
    "\n",
    "quick_sort(array,0,len(array)-1)\n",
    "print(array)"
   ]
  },
  {
   "cell_type": "markdown",
   "metadata": {},
   "source": [
    "### 계수 정렬"
   ]
  },
  {
   "cell_type": "code",
   "execution_count": 5,
   "metadata": {},
   "outputs": [
    {
     "name": "stdout",
     "output_type": "stream",
     "text": [
      "0 1 2 3 4 5 6 7 8 9 "
     ]
    }
   ],
   "source": [
    "array = [5,7,9,0,3,1,6,2,4,8]\n",
    "count = [0] * (max(array) + 1)\n",
    "for i in range(len(array)):\n",
    "    count[array[i]] += 1\n",
    "\n",
    "for i in range(len(count)):\n",
    "    for j in range(count[i]):\n",
    "        print(i, end=' ')"
   ]
  },
  {
   "cell_type": "markdown",
   "metadata": {},
   "source": [
    "### 위에어 아래로"
   ]
  },
  {
   "cell_type": "code",
   "execution_count": 6,
   "metadata": {},
   "outputs": [
    {
     "name": "stdout",
     "output_type": "stream",
     "text": [
      "27 15 12 "
     ]
    }
   ],
   "source": [
    "# 입력 받기\n",
    "n = int(input())\n",
    "array = []\n",
    "for i in range(n):\n",
    "    array.append(int(input()))\n",
    "\n",
    "# 내림차순 정렬\n",
    "array = sorted(array, reverse=True)\n",
    "\n",
    "# 결과 출력\n",
    "for i in array:\n",
    "    print(i, end=' ')"
   ]
  },
  {
   "cell_type": "markdown",
   "metadata": {},
   "source": [
    "### 성적이 낮은 순서로 학생 출력하기"
   ]
  },
  {
   "cell_type": "code",
   "execution_count": null,
   "metadata": {},
   "outputs": [],
   "source": [
    "# 학생 수 입력 받기\n",
    "n = int(input())\n",
    "\n",
    "# 학생 정보를 담을 리스트\n",
    "array = []\n",
    "\n",
    "# 학생 정보 입력 받기\n",
    "for i in range(n):\n",
    "    input_data = input().split()\n",
    "    # 이름은 문자열 그대로, 점수는 정수형으로 변환하여 저장\n",
    "    array.append((input_data[0], int(input_data[1])))\n",
    "\n",
    "# 점수를 기준으로 오름차순 정렬\n",
    "array = sorted(array, key=lambda student: student[1])\n",
    "\n",
    "# 정렬된 학생 이름 출력\n",
    "for student in array:\n",
    "    print(student[0], end=' ')"
   ]
  },
  {
   "cell_type": "markdown",
   "metadata": {},
   "source": [
    "### 두 배열의 원소 교체"
   ]
  },
  {
   "cell_type": "code",
   "execution_count": null,
   "metadata": {},
   "outputs": [],
   "source": [
    "n, k = map(int, input().split())\n",
    "a = list(map(int, input().split()))  # 배열 A\n",
    "b = list(map(int, input().split()))  # 배열 B\n",
    "\n",
    "a.sort()  # 배열 A를 오름차순으로 정렬\n",
    "b.sort(reverse=True)  # 배열 B를 내림차순으로 정렬\n",
    "\n",
    "# 최대 K번 동안 교환 작업 수행\n",
    "for i in range(k):\n",
    "    # A의 원소가 B의 원소보다 작은 경우에만 교환\n",
    "    if a[i] < b[i]:\n",
    "        a[i], b[i] = b[i], a[i]\n",
    "    else:\n",
    "        # A의 원소가 B의 원소보다 크거나 같으면 반복 중단\n",
    "        break\n",
    "\n",
    "print(sum(a))  # 배열 A의 모든 원소의 합을 출력"
   ]
  }
 ],
 "metadata": {
  "kernelspec": {
   "display_name": "base",
   "language": "python",
   "name": "python3"
  },
  "language_info": {
   "codemirror_mode": {
    "name": "ipython",
    "version": 3
   },
   "file_extension": ".py",
   "mimetype": "text/x-python",
   "name": "python",
   "nbconvert_exporter": "python",
   "pygments_lexer": "ipython3",
   "version": "3.9.12"
  }
 },
 "nbformat": 4,
 "nbformat_minor": 2
}
